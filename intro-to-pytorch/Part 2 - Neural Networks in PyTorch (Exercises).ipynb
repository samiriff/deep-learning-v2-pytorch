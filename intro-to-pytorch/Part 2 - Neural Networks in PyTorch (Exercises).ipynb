{
 "cells": [
  {
   "cell_type": "markdown",
   "metadata": {},
   "source": [
    "# Neural networks with PyTorch\n",
    "\n",
    "Deep learning networks tend to be massive with dozens or hundreds of layers, that's where the term \"deep\" comes from. You can build one of these deep networks using only weight matrices as we did in the previous notebook, but in general it's very cumbersome and difficult to implement. PyTorch has a nice module `nn` that provides a nice way to efficiently build large neural networks."
   ]
  },
  {
   "cell_type": "code",
   "execution_count": 2,
   "metadata": {},
   "outputs": [],
   "source": [
    "# Import necessary packages\n",
    "\n",
    "%matplotlib inline\n",
    "%config InlineBackend.figure_format = 'retina'\n",
    "\n",
    "import numpy as np\n",
    "import torch\n",
    "\n",
    "import helper\n",
    "\n",
    "import matplotlib.pyplot as plt"
   ]
  },
  {
   "cell_type": "markdown",
   "metadata": {},
   "source": [
    "\n",
    "Now we're going to build a larger network that can solve a (formerly) difficult problem, identifying text in an image. Here we'll use the MNIST dataset which consists of greyscale handwritten digits. Each image is 28x28 pixels, you can see a sample below\n",
    "\n",
    "<img src='assets/mnist.png'>\n",
    "\n",
    "Our goal is to build a neural network that can take one of these images and predict the digit in the image.\n",
    "\n",
    "First up, we need to get our dataset. This is provided through the `torchvision` package. The code below will download the MNIST dataset, then create training and test datasets for us. Don't worry too much about the details here, you'll learn more about this later."
   ]
  },
  {
   "cell_type": "code",
   "execution_count": 3,
   "metadata": {},
   "outputs": [
    {
     "name": "stdout",
     "output_type": "stream",
     "text": [
      "Downloading http://yann.lecun.com/exdb/mnist/train-images-idx3-ubyte.gz\n",
      "Downloading http://yann.lecun.com/exdb/mnist/train-labels-idx1-ubyte.gz\n",
      "Downloading http://yann.lecun.com/exdb/mnist/t10k-images-idx3-ubyte.gz\n",
      "Downloading http://yann.lecun.com/exdb/mnist/t10k-labels-idx1-ubyte.gz\n",
      "Processing...\n",
      "Done!\n"
     ]
    }
   ],
   "source": [
    "### Run this cell\n",
    "\n",
    "from torchvision import datasets, transforms\n",
    "\n",
    "# Define a transform to normalize the data\n",
    "transform = transforms.Compose([transforms.ToTensor(),\n",
    "                              transforms.Normalize((0.5,), (0.5,)),\n",
    "                              ])\n",
    "\n",
    "# Download and load the training data\n",
    "trainset = datasets.MNIST('~/.pytorch/MNIST_data/', download=True, train=True, transform=transform)\n",
    "trainloader = torch.utils.data.DataLoader(trainset, batch_size=64, shuffle=True)"
   ]
  },
  {
   "cell_type": "markdown",
   "metadata": {},
   "source": [
    "We have the training data loaded into `trainloader` and we make that an iterator with `iter(trainloader)`. Later, we'll use this to loop through the dataset for training, like\n",
    "\n",
    "```python\n",
    "for image, label in trainloader:\n",
    "    ## do things with images and labels\n",
    "```\n",
    "\n",
    "You'll notice I created the `trainloader` with a batch size of 64, and `shuffle=True`. The batch size is the number of images we get in one iteration from the data loader and pass through our network, often called a *batch*. And `shuffle=True` tells it to shuffle the dataset every time we start going through the data loader again. But here I'm just grabbing the first batch so we can check out the data. We can see below that `images` is just a tensor with size `(64, 1, 28, 28)`. So, 64 images per batch, 1 color channel, and 28x28 images."
   ]
  },
  {
   "cell_type": "code",
   "execution_count": 4,
   "metadata": {},
   "outputs": [
    {
     "name": "stdout",
     "output_type": "stream",
     "text": [
      "<class 'torch.Tensor'>\n",
      "torch.Size([64, 1, 28, 28])\n",
      "torch.Size([64])\n"
     ]
    }
   ],
   "source": [
    "dataiter = iter(trainloader)\n",
    "images, labels = dataiter.next()\n",
    "print(type(images))\n",
    "print(images.shape)\n",
    "print(labels.shape)"
   ]
  },
  {
   "cell_type": "markdown",
   "metadata": {},
   "source": [
    "This is what one of the images looks like. "
   ]
  },
  {
   "cell_type": "code",
   "execution_count": 14,
   "metadata": {},
   "outputs": [
    {
     "data": {
      "text/plain": [
       "((1, 28, 28), (28, 28))"
      ]
     },
     "execution_count": 14,
     "metadata": {},
     "output_type": "execute_result"
    }
   ],
   "source": [
    "images[1].numpy().shape, images[1].numpy().squeeze().shape"
   ]
  },
  {
   "cell_type": "code",
   "execution_count": 5,
   "metadata": {},
   "outputs": [
    {
     "data": {
      "image/png": "[encoded data removed]",
      "text/plain": [
       "<Figure size 432x288 with 1 Axes>"
      ]
     },
     "metadata": {
      "image/png": {
       "height": 250,
       "width": 253
      },
      "needs_background": "light"
     },
     "output_type": "display_data"
    }
   ],
   "source": [
    "plt.imshow(images[1].numpy().squeeze(), cmap='Greys_r');"
   ]
  },
  {
   "cell_type": "markdown",
   "metadata": {},
   "source": [
    "First, let's try to build a simple network for this dataset using weight matrices and matrix multiplications. Then, we'll see how to do it using PyTorch's `nn` module which provides a much more convenient and powerful method for defining network architectures.\n",
    "\n",
    "The networks you've seen so far are called *fully-connected* or *dense* networks. Each unit in one layer is connected to each unit in the next layer. In fully-connected networks, the input to each layer must be a one-dimensional vector (which can be stacked into a 2D tensor as a batch of multiple examples). However, our images are 28x28 2D tensors, so we need to convert them into 1D vectors. Thinking about sizes, we need to convert the batch of images with shape `(64, 1, 28, 28)` to a have a shape of `(64, 784)`, 784 is 28 times 28. This is typically called *flattening*, we flattened the 2D images into 1D vectors.\n",
    "\n",
    "Previously you built a network with one output unit. Here we need 10 output units, one for each digit. We want our network to predict the digit shown in an image, so what we'll do is calculate probabilities that the image is of any one digit or class. This ends up being a discrete probability distribution over the classes (digits) that tells us the most likely class for the image. That means we need 10 output units for the 10 classes (digits). We'll see how to convert the network output into a probability distribution next.\n",
    "\n",
    "> **Exercise:** Flatten the batch of images `images`. Then build a multi-layer network with 784 input units, 256 hidden units, and 10 output units using random tensors for the weights and biases. For now, use a sigmoid activation for the hidden layer. Leave the output layer without an activation, we'll add one that gives us a probability distribution next."
   ]
  },
  {
   "cell_type": "code",
   "execution_count": 36,
   "metadata": {},
   "outputs": [],
   "source": [
    "def sigmoid(x):\n",
    "    return 1 / (1 + torch.exp(-x))"
   ]
  },
  {
   "cell_type": "code",
   "execution_count": 37,
   "metadata": {},
   "outputs": [
    {
     "name": "stdout",
     "output_type": "stream",
     "text": [
      "torch.Size([784, 256]) torch.Size([256, 10])\n",
      "torch.Size([1, 256]) torch.Size([1, 10])\n",
      "torch.Size([64, 784])\n"
     ]
    },
    {
     "data": {
      "text/plain": [
       "torch.Size([64, 10])"
      ]
     },
     "execution_count": 37,
     "metadata": {},
     "output_type": "execute_result"
    }
   ],
   "source": [
    "## Your solution\n",
    "weights_0_1 = torch.randn((784, 256))\n",
    "weights_1_2 = torch.randn((256, 10))\n",
    "print(weights_0_1.shape, weights_1_2.shape)\n",
    "\n",
    "bias_1 = torch.randn((1, 256))\n",
    "bias_2 = torch.randn((1, 10))\n",
    "print(bias_1.shape, bias_2.shape)\n",
    "\n",
    "img_shape = images.shape\n",
    "features = images.reshape(img_shape[0], img_shape[1] * img_shape[2] * img_shape[3])\n",
    "print(features.shape)\n",
    "\n",
    "layer_1 = sigmoid(torch.mm(features, weights_0_1) + bias_1)\n",
    "layer_2 = torch.mm(layer_1, weights_1_2) + bias_2\n",
    "\n",
    "out = layer_2 # output of your network, should have shape (64,10)\n",
    "out.shape"
   ]
  },
  {
   "cell_type": "markdown",
   "metadata": {},
   "source": [
    "Now we have 10 outputs for our network. We want to pass in an image to our network and get out a probability distribution over the classes that tells us the likely class(es) the image belongs to. Something that looks like this:\n",
    "<img src='assets/image_distribution.png' width=500px>\n",
    "\n",
    "Here we see that the probability for each class is roughly the same. This is representing an untrained network, it hasn't seen any data yet so it just returns a uniform distribution with equal probabilities for each class.\n",
    "\n",
    "To calculate this probability distribution, we often use the [**softmax** function](https://en.wikipedia.org/wiki/Softmax_function). Mathematically this looks like\n",
    "\n",
    "$$\n",
    "\\Large \\sigma(x_i) = \\cfrac{e^{x_i}}{\\sum_k^K{e^{x_k}}}\n",
    "$$\n",
    "\n",
    "What this does is squish each input $x_i$ between 0 and 1 and normalizes the values to give you a proper probability distribution where the probabilites sum up to one.\n",
    "\n",
    "> **Exercise:** Implement a function `softmax` that performs the softmax calculation and returns probability distributions for each example in the batch. Note that you'll need to pay attention to the shapes when doing this. If you have a tensor `a` with shape `(64, 10)` and a tensor `b` with shape `(64,)`, doing `a/b` will give you an error because PyTorch will try to do the division across the columns (called broadcasting) but you'll get a size mismatch. The way to think about this is for each of the 64 examples, you only want to divide by one value, the sum in the denominator. So you need `b` to have a shape of `(64, 1)`. This way PyTorch will divide the 10 values in each row of `a` by the one value in each row of `b`. Pay attention to how you take the sum as well. You'll need to define the `dim` keyword in `torch.sum`. Setting `dim=0` takes the sum across the rows while `dim=1` takes the sum across the columns."
   ]
  },
  {
   "cell_type": "code",
   "execution_count": 53,
   "metadata": {},
   "outputs": [
    {
     "data": {
      "text/plain": [
       "tensor([[4.2403e-01, 1.0855e-07, 3.0680e-03, 3.5011e-10, 6.6696e-10, 1.1986e-09,\n",
       "         2.2521e-03, 5.7046e-01, 1.6001e-15, 1.8966e-04],\n",
       "        [4.3953e-03, 3.8818e-06, 9.1081e-07, 2.6033e-11, 1.9535e-08, 3.1491e-09,\n",
       "         2.7523e-04, 6.2544e-01, 2.7715e-08, 3.6988e-01],\n",
       "        [2.7067e-12, 7.7483e-14, 1.2351e-09, 1.3687e-11, 1.2264e-12, 3.1293e-22,\n",
       "         1.2870e-09, 9.6680e-05, 2.9116e-22, 9.9990e-01],\n",
       "        [7.4306e-11, 1.6047e-11, 1.0370e-05, 4.8290e-10, 3.8035e-10, 9.4707e-17,\n",
       "         4.6206e-09, 4.8624e-06, 4.3341e-17, 9.9998e-01],\n",
       "        [4.1557e-06, 8.0535e-07, 6.9528e-04, 1.9946e-07, 1.3463e-12, 5.8063e-15,\n",
       "         3.9335e-08, 6.1251e-01, 2.5984e-15, 3.8679e-01],\n",
       "        [4.2591e-03, 3.8695e-10, 9.2599e-09, 4.7199e-11, 6.1465e-12, 2.9118e-12,\n",
       "         4.7899e-08, 5.2747e-02, 2.3803e-12, 9.4299e-01],\n",
       "        [1.2918e-06, 2.4418e-09, 1.1188e-06, 5.3038e-11, 2.2973e-12, 1.3735e-15,\n",
       "         4.4715e-08, 9.9999e-01, 2.5188e-18, 7.0444e-06],\n",
       "        [3.6959e-09, 1.3198e-09, 3.6663e-07, 1.9844e-12, 7.8003e-14, 1.0084e-16,\n",
       "         9.7158e-11, 1.0000e+00, 1.6946e-20, 6.9934e-07],\n",
       "        [7.7578e-08, 1.9398e-08, 1.6171e-09, 7.7899e-11, 2.7676e-08, 1.5700e-14,\n",
       "         3.1278e-06, 5.8815e-05, 1.5710e-16, 9.9994e-01],\n",
       "        [9.9141e-02, 1.1513e-09, 5.5078e-04, 1.1739e-10, 2.6484e-10, 5.6387e-16,\n",
       "         2.3771e-09, 7.2812e-01, 1.4618e-14, 1.7219e-01],\n",
       "        [7.7804e-05, 1.2137e-06, 6.2578e-05, 6.2380e-10, 8.2671e-04, 5.8238e-13,\n",
       "         2.6977e-04, 1.7028e-01, 2.1077e-14, 8.2848e-01],\n",
       "        [4.7274e-07, 2.6220e-03, 9.0251e-06, 9.3543e-12, 1.0871e-05, 1.3983e-16,\n",
       "         1.2448e-05, 2.3939e-04, 2.7042e-15, 9.9711e-01],\n",
       "        [1.7122e-05, 6.4843e-11, 3.5789e-07, 1.2751e-10, 3.6018e-10, 5.4723e-14,\n",
       "         1.9673e-08, 9.8518e-01, 7.7529e-15, 1.4800e-02],\n",
       "        [1.2700e-01, 2.3099e-06, 8.9268e-03, 7.6995e-09, 4.7336e-09, 1.7397e-12,\n",
       "         1.0908e-03, 7.7301e-02, 3.3785e-13, 7.8568e-01],\n",
       "        [5.0440e-09, 2.0196e-12, 7.9677e-11, 1.4049e-14, 5.6568e-12, 1.5387e-16,\n",
       "         6.2619e-08, 1.0000e+00, 2.6861e-16, 1.3000e-10],\n",
       "        [3.3120e-08, 1.1419e-12, 5.4748e-07, 4.7647e-10, 1.2030e-12, 2.8712e-15,\n",
       "         6.5811e-09, 9.9998e-01, 8.6011e-20, 1.8844e-05],\n",
       "        [1.8308e-07, 1.1007e-07, 2.0494e-03, 4.1024e-07, 1.3497e-06, 1.4622e-12,\n",
       "         5.8319e-06, 9.9456e-01, 6.8011e-12, 3.3853e-03],\n",
       "        [2.5233e-06, 7.8888e-10, 3.2633e-09, 4.5492e-13, 2.9045e-12, 8.8715e-13,\n",
       "         9.3283e-10, 3.1740e-02, 1.7435e-16, 9.6826e-01],\n",
       "        [2.7847e-04, 2.1504e-09, 2.5374e-05, 1.0512e-08, 1.6046e-11, 1.3284e-18,\n",
       "         3.2902e-08, 4.4560e-09, 1.2671e-13, 9.9970e-01],\n",
       "        [7.7735e-04, 1.4132e-10, 3.3001e-05, 1.4478e-10, 5.2263e-11, 8.3671e-11,\n",
       "         5.6524e-08, 5.9965e-02, 3.1174e-15, 9.3922e-01],\n",
       "        [8.1680e-05, 8.4290e-08, 2.4703e-01, 2.9843e-10, 6.2052e-05, 6.5169e-18,\n",
       "         6.2094e-07, 1.3243e-02, 4.4411e-15, 7.3958e-01],\n",
       "        [1.9966e-06, 1.1237e-07, 2.3767e-10, 2.3683e-11, 3.3727e-06, 4.5322e-17,\n",
       "         2.6435e-07, 9.9204e-01, 3.8001e-18, 7.9499e-03],\n",
       "        [8.9123e-02, 5.5861e-07, 1.0926e-01, 2.4120e-07, 1.8348e-02, 7.5974e-11,\n",
       "         2.2427e-01, 5.5753e-01, 6.6332e-13, 1.4700e-03],\n",
       "        [2.4124e-04, 2.3091e-08, 8.2272e-05, 6.5054e-14, 9.2677e-08, 2.6999e-09,\n",
       "         1.0888e-07, 9.9951e-01, 2.9854e-14, 1.6986e-04],\n",
       "        [1.2775e-07, 4.8401e-09, 1.4134e-08, 7.5624e-12, 1.8759e-09, 1.7285e-13,\n",
       "         3.8547e-08, 4.5279e-01, 5.2184e-17, 5.4721e-01],\n",
       "        [1.5928e-07, 2.1911e-12, 3.1647e-09, 6.1612e-14, 5.6586e-12, 5.5302e-16,\n",
       "         2.6974e-10, 1.0000e+00, 2.0502e-18, 6.2229e-10],\n",
       "        [5.2101e-03, 4.4550e-08, 2.9964e-01, 1.9205e-08, 3.9854e-05, 8.0331e-08,\n",
       "         7.3759e-04, 7.1950e-02, 3.6755e-13, 6.2242e-01],\n",
       "        [8.9841e-02, 1.4296e-08, 1.1836e-05, 1.2595e-15, 3.5087e-08, 7.9097e-13,\n",
       "         5.9618e-07, 9.1014e-01, 2.0311e-17, 1.1110e-05],\n",
       "        [1.9527e-02, 2.8216e-12, 3.6223e-09, 5.6603e-14, 3.1977e-15, 1.6026e-16,\n",
       "         1.2148e-08, 2.8850e-03, 1.4555e-16, 9.7759e-01],\n",
       "        [8.8911e-01, 7.4237e-09, 1.3425e-07, 5.0171e-14, 7.8592e-10, 4.6460e-15,\n",
       "         2.7954e-07, 1.0918e-01, 1.8777e-17, 1.7121e-03],\n",
       "        [1.1345e-08, 1.8710e-10, 3.7082e-06, 1.0267e-10, 7.9115e-07, 1.5673e-15,\n",
       "         6.5584e-08, 9.8366e-01, 8.6832e-16, 1.6331e-02],\n",
       "        [1.7320e-07, 4.8235e-02, 2.3196e-03, 7.8066e-12, 5.8227e-06, 5.2536e-14,\n",
       "         5.3050e-02, 1.4894e-03, 5.2207e-13, 8.9490e-01],\n",
       "        [3.4444e-07, 6.0070e-09, 5.7461e-08, 2.3954e-15, 1.9012e-11, 5.6359e-15,\n",
       "         1.8727e-07, 9.9695e-01, 2.1357e-18, 3.0537e-03],\n",
       "        [1.6479e-06, 1.1003e-04, 4.9268e-03, 5.5868e-08, 9.3252e-07, 3.0686e-10,\n",
       "         4.7043e-06, 2.2053e-01, 6.0118e-08, 7.7443e-01],\n",
       "        [2.7261e-03, 8.2861e-04, 9.9254e-01, 1.0109e-10, 2.2073e-09, 1.0644e-11,\n",
       "         2.5688e-07, 3.7946e-03, 1.9759e-11, 1.1379e-04],\n",
       "        [1.6228e-05, 1.3779e-08, 2.2652e-09, 4.3146e-11, 4.1109e-09, 1.1131e-15,\n",
       "         3.0833e-05, 9.9995e-01, 2.1377e-16, 7.8097e-06],\n",
       "        [2.8821e-02, 1.8058e-04, 1.2053e-02, 1.6955e-08, 1.7627e-06, 2.0409e-10,\n",
       "         6.8235e-01, 5.5981e-02, 8.0739e-11, 2.2061e-01],\n",
       "        [5.1114e-02, 1.3598e-06, 8.6754e-05, 7.5133e-11, 4.9619e-08, 2.8956e-15,\n",
       "         1.1684e-06, 2.3044e-03, 4.0257e-12, 9.4649e-01],\n",
       "        [1.4056e-07, 1.3913e-09, 4.3409e-03, 5.5062e-11, 3.5937e-07, 2.2488e-17,\n",
       "         2.2606e-05, 8.2993e-05, 1.8697e-14, 9.9555e-01],\n",
       "        [2.2206e-02, 2.0981e-11, 2.0078e-09, 8.1761e-11, 1.9259e-11, 1.0976e-09,\n",
       "         2.6819e-09, 9.4753e-01, 4.6899e-19, 3.0268e-02],\n",
       "        [8.6725e-01, 1.8089e-05, 8.6114e-04, 1.7493e-08, 1.3640e-10, 9.2917e-14,\n",
       "         3.2378e-04, 2.1005e-05, 1.1447e-12, 1.3152e-01],\n",
       "        [1.7560e-07, 2.9670e-08, 5.2775e-08, 3.1875e-09, 1.0556e-11, 1.5213e-14,\n",
       "         2.3835e-06, 8.8751e-01, 1.4295e-16, 1.1249e-01],\n",
       "        [2.6465e-08, 2.9797e-15, 3.2600e-10, 9.8052e-14, 1.1546e-13, 4.6895e-14,\n",
       "         1.3338e-09, 1.0000e+00, 5.7942e-14, 3.4087e-07],\n",
       "        [6.8066e-08, 2.9263e-10, 2.2665e-01, 7.6397e-04, 2.5334e-09, 5.7334e-13,\n",
       "         1.9057e-05, 3.9270e-01, 1.4697e-11, 3.7987e-01],\n",
       "        [1.4924e-03, 2.1651e-07, 8.6022e-01, 2.4814e-08, 4.2776e-11, 1.7833e-15,\n",
       "         8.5128e-08, 6.5714e-02, 2.2489e-15, 7.2577e-02],\n",
       "        [3.1487e-06, 5.2010e-04, 6.7228e-09, 8.7870e-11, 3.2840e-12, 3.6482e-14,\n",
       "         1.8055e-06, 9.9927e-01, 6.1975e-15, 2.0054e-04],\n",
       "        [7.7669e-06, 8.1040e-09, 1.2246e-03, 6.8867e-09, 1.0769e-08, 3.7789e-14,\n",
       "         1.2224e-05, 2.0479e-05, 1.2497e-14, 9.9873e-01],\n",
       "        [8.2254e-04, 1.0758e-06, 4.3823e-07, 1.4312e-08, 8.9879e-07, 5.8623e-15,\n",
       "         2.1836e-05, 7.6710e-05, 5.6008e-16, 9.9908e-01],\n",
       "        [9.8389e-01, 2.0001e-05, 7.0874e-06, 2.0286e-08, 2.1128e-08, 5.7034e-08,\n",
       "         8.1512e-05, 1.5985e-02, 8.6253e-12, 1.9763e-05],\n",
       "        [6.6455e-02, 1.1118e-01, 3.4442e-01, 5.2134e-07, 9.4533e-05, 2.0735e-06,\n",
       "         7.4276e-02, 8.7890e-04, 2.1433e-07, 4.0269e-01],\n",
       "        [3.4498e-06, 8.5310e-08, 1.1106e-06, 8.1587e-09, 1.2873e-05, 2.0831e-15,\n",
       "         2.0856e-09, 1.4254e-03, 5.4864e-14, 9.9856e-01],\n",
       "        [1.5400e-07, 2.7826e-05, 2.1190e-05, 1.2227e-06, 4.1585e-09, 1.6631e-10,\n",
       "         4.9911e-07, 5.4786e-01, 1.8719e-13, 4.5209e-01],\n",
       "        [1.0696e-06, 4.4963e-10, 1.6771e-05, 7.5055e-09, 4.5332e-13, 1.6228e-12,\n",
       "         3.3599e-07, 7.2116e-01, 5.9980e-17, 2.7882e-01],\n",
       "        [1.7023e-04, 2.2223e-04, 2.1955e-03, 1.0250e-10, 7.3650e-10, 2.6582e-14,\n",
       "         1.1939e-06, 9.9703e-01, 1.1000e-17, 3.8172e-04],\n",
       "        [8.5418e-01, 1.3684e-04, 1.9593e-05, 6.2502e-11, 8.8580e-05, 1.5005e-12,\n",
       "         1.3166e-06, 2.3832e-02, 2.2544e-15, 1.2174e-01],\n",
       "        [1.4650e-03, 2.5415e-07, 7.3024e-03, 2.4130e-11, 1.3327e-04, 1.9892e-14,\n",
       "         3.2188e-05, 2.0314e-03, 3.0476e-12, 9.8904e-01],\n",
       "        [4.1219e-04, 3.1729e-07, 5.5152e-02, 7.2593e-09, 3.8324e-11, 3.6392e-09,\n",
       "         9.1220e-06, 9.4159e-01, 3.8934e-11, 2.8367e-03],\n",
       "        [4.6803e-03, 2.6365e-09, 5.8722e-07, 1.5750e-09, 5.6382e-13, 2.8713e-16,\n",
       "         2.3600e-05, 9.8720e-01, 3.9101e-17, 8.0968e-03],\n",
       "        [3.8408e-07, 7.9269e-10, 2.4355e-14, 2.1319e-18, 1.6698e-10, 7.5333e-18,\n",
       "         2.5390e-09, 1.0000e+00, 3.2015e-23, 2.2772e-10],\n",
       "        [6.9798e-01, 1.5799e-05, 6.1942e-03, 1.1339e-08, 3.1941e-07, 4.6047e-11,\n",
       "         4.8501e-05, 2.9428e-01, 1.6073e-11, 1.4726e-03],\n",
       "        [1.7454e-06, 1.9925e-07, 1.0086e-03, 2.7154e-10, 1.1641e-09, 1.3519e-16,\n",
       "         1.9085e-06, 9.9047e-01, 7.8873e-17, 8.5213e-03],\n",
       "        [1.9452e-05, 1.0909e-08, 5.3828e-02, 5.9207e-11, 5.0476e-10, 7.5660e-14,\n",
       "         3.9879e-01, 5.4411e-01, 3.3260e-16, 3.2466e-03],\n",
       "        [4.7304e-04, 6.3698e-10, 9.7251e-01, 9.8637e-13, 1.5802e-08, 4.1874e-17,\n",
       "         6.9933e-09, 1.5487e-03, 2.1831e-14, 2.5471e-02],\n",
       "        [2.0295e-06, 1.3853e-07, 3.6115e-04, 4.9795e-17, 1.8509e-04, 2.8094e-10,\n",
       "         1.4818e-08, 3.4732e-02, 3.8604e-20, 9.6472e-01]])"
      ]
     },
     "execution_count": 53,
     "metadata": {},
     "output_type": "execute_result"
    }
   ],
   "source": [
    "denominator = torch.exp(out).sum(dim=1)\n",
    "torch.exp(out) / denominator.reshape(64, 1)"
   ]
  },
  {
   "cell_type": "code",
   "execution_count": 54,
   "metadata": {},
   "outputs": [
    {
     "name": "stdout",
     "output_type": "stream",
     "text": [
      "torch.Size([64, 10])\n",
      "tensor([1.0000, 1.0000, 1.0000, 1.0000, 1.0000, 1.0000, 1.0000, 1.0000, 1.0000,\n",
      "        1.0000, 1.0000, 1.0000, 1.0000, 1.0000, 1.0000, 1.0000, 1.0000, 1.0000,\n",
      "        1.0000, 1.0000, 1.0000, 1.0000, 1.0000, 1.0000, 1.0000, 1.0000, 1.0000,\n",
      "        1.0000, 1.0000, 1.0000, 1.0000, 1.0000, 1.0000, 1.0000, 1.0000, 1.0000,\n",
      "        1.0000, 1.0000, 1.0000, 1.0000, 1.0000, 1.0000, 1.0000, 1.0000, 1.0000,\n",
      "        1.0000, 1.0000, 1.0000, 1.0000, 1.0000, 1.0000, 1.0000, 1.0000, 1.0000,\n",
      "        1.0000, 1.0000, 1.0000, 1.0000, 1.0000, 1.0000, 1.0000, 1.0000, 1.0000,\n",
      "        1.0000])\n"
     ]
    }
   ],
   "source": [
    "def softmax(x):\n",
    "    ## TODO: Implement the softmax function here\n",
    "    denominator = torch.exp(out).sum(dim=1)\n",
    "    numerator = torch.exp(out)\n",
    "    return numerator / denominator.reshape(64, 1)\n",
    "    \n",
    "\n",
    "# Here, out should be the output of the network in the previous excercise with shape (64,10)\n",
    "probabilities = softmax(out)\n",
    "\n",
    "# Does it have the right shape? Should be (64, 10)\n",
    "print(probabilities.shape)\n",
    "# Does it sum to 1?\n",
    "print(probabilities.sum(dim=1))"
   ]
  },
  {
   "cell_type": "markdown",
   "metadata": {},
   "source": [
    "## Building networks with PyTorch\n",
    "\n",
    "PyTorch provides a module `nn` that makes building networks much simpler. Here I'll show you how to build the same one as above with 784 inputs, 256 hidden units, 10 output units and a softmax output."
   ]
  },
  {
   "cell_type": "code",
   "execution_count": 56,
   "metadata": {},
   "outputs": [],
   "source": [
    "from torch import nn"
   ]
  },
  {
   "cell_type": "code",
   "execution_count": 57,
   "metadata": {},
   "outputs": [],
   "source": [
    "class Network(nn.Module):\n",
    "    def __init__(self):\n",
    "        super().__init__()\n",
    "        \n",
    "        # Inputs to hidden layer linear transformation\n",
    "        self.hidden = nn.Linear(784, 256)\n",
    "        # Output layer, 10 units - one for each digit\n",
    "        self.output = nn.Linear(256, 10)\n",
    "        \n",
    "        # Define sigmoid activation and softmax output \n",
    "        self.sigmoid = nn.Sigmoid()\n",
    "        self.softmax = nn.Softmax(dim=1)\n",
    "        \n",
    "    def forward(self, x):\n",
    "        # Pass the input tensor through each of our operations\n",
    "        x = self.hidden(x)\n",
    "        x = self.sigmoid(x)\n",
    "        x = self.output(x)\n",
    "        x = self.softmax(x)\n",
    "        \n",
    "        return x"
   ]
  },
  {
   "cell_type": "markdown",
   "metadata": {},
   "source": [
    "Let's go through this bit by bit.\n",
    "\n",
    "```python\n",
    "class Network(nn.Module):\n",
    "```\n",
    "\n",
    "Here we're inheriting from `nn.Module`. Combined with `super().__init__()` this creates a class that tracks the architecture and provides a lot of useful methods and attributes. It is mandatory to inherit from `nn.Module` when you're creating a class for your network. The name of the class itself can be anything.\n",
    "\n",
    "```python\n",
    "self.hidden = nn.Linear(784, 256)\n",
    "```\n",
    "\n",
    "This line creates a module for a linear transformation, $x\\mathbf{W} + b$, with 784 inputs and 256 outputs and assigns it to `self.hidden`. The module automatically creates the weight and bias tensors which we'll use in the `forward` method. You can access the weight and bias tensors once the network (`net`) is created with `net.hidden.weight` and `net.hidden.bias`.\n",
    "\n",
    "```python\n",
    "self.output = nn.Linear(256, 10)\n",
    "```\n",
    "\n",
    "Similarly, this creates another linear transformation with 256 inputs and 10 outputs.\n",
    "\n",
    "```python\n",
    "self.sigmoid = nn.Sigmoid()\n",
    "self.softmax = nn.Softmax(dim=1)\n",
    "```\n",
    "\n",
    "Here I defined operations for the sigmoid activation and softmax output. Setting `dim=1` in `nn.Softmax(dim=1)` calculates softmax across the columns.\n",
    "\n",
    "```python\n",
    "def forward(self, x):\n",
    "```\n",
    "\n",
    "PyTorch networks created with `nn.Module` must have a `forward` method defined. It takes in a tensor `x` and passes it through the operations you defined in the `__init__` method.\n",
    "\n",
    "```python\n",
    "x = self.hidden(x)\n",
    "x = self.sigmoid(x)\n",
    "x = self.output(x)\n",
    "x = self.softmax(x)\n",
    "```\n",
    "\n",
    "Here the input tensor `x` is passed through each operation and reassigned to `x`. We can see that the input tensor goes through the hidden layer, then a sigmoid function, then the output layer, and finally the softmax function. It doesn't matter what you name the variables here, as long as the inputs and outputs of the operations match the network architecture you want to build. The order in which you define things in the `__init__` method doesn't matter, but you'll need to sequence the operations correctly in the `forward` method.\n",
    "\n",
    "Now we can create a `Network` object."
   ]
  },
  {
   "cell_type": "code",
   "execution_count": 58,
   "metadata": {},
   "outputs": [
    {
     "data": {
      "text/plain": [
       "Network(\n",
       "  (hidden): Linear(in_features=784, out_features=256, bias=True)\n",
       "  (output): Linear(in_features=256, out_features=10, bias=True)\n",
       "  (sigmoid): Sigmoid()\n",
       "  (softmax): Softmax()\n",
       ")"
      ]
     },
     "execution_count": 58,
     "metadata": {},
     "output_type": "execute_result"
    }
   ],
   "source": [
    "# Create the network and look at it's text representation\n",
    "model = Network()\n",
    "model"
   ]
  },
  {
   "cell_type": "markdown",
   "metadata": {},
   "source": [
    "You can define the network somewhat more concisely and clearly using the `torch.nn.functional` module. This is the most common way you'll see networks defined as many operations are simple element-wise functions. We normally import this module as `F`, `import torch.nn.functional as F`."
   ]
  },
  {
   "cell_type": "code",
   "execution_count": 59,
   "metadata": {},
   "outputs": [],
   "source": [
    "import torch.nn.functional as F\n",
    "\n",
    "class Network(nn.Module):\n",
    "    def __init__(self):\n",
    "        super().__init__()\n",
    "        # Inputs to hidden layer linear transformation\n",
    "        self.hidden = nn.Linear(784, 256)\n",
    "        # Output layer, 10 units - one for each digit\n",
    "        self.output = nn.Linear(256, 10)\n",
    "        \n",
    "    def forward(self, x):\n",
    "        # Hidden layer with sigmoid activation\n",
    "        x = F.sigmoid(self.hidden(x))\n",
    "        # Output layer with softmax activation\n",
    "        x = F.softmax(self.output(x), dim=1)\n",
    "        \n",
    "        return x"
   ]
  },
  {
   "cell_type": "markdown",
   "metadata": {},
   "source": [
    "### Activation functions\n",
    "\n",
    "So far we've only been looking at the sigmoid activation function, but in general any function can be used as an activation function. The only requirement is that for a network to approximate a non-linear function, the activation functions must be non-linear. Here are a few more examples of common activation functions: Tanh (hyperbolic tangent), and ReLU (rectified linear unit).\n",
    "\n",
    "<img src=\"assets/activation.png\" width=700px>\n",
    "\n",
    "In practice, the ReLU function is used almost exclusively as the activation function for hidden layers."
   ]
  },
  {
   "cell_type": "markdown",
   "metadata": {},
   "source": [
    "### Your Turn to Build a Network\n",
    "\n",
    "<img src=\"assets/mlp_mnist.png\" width=600px>\n",
    "\n",
    "> **Exercise:** Create a network with 784 input units, a hidden layer with 128 units and a ReLU activation, then a hidden layer with 64 units and a ReLU activation, and finally an output layer with a softmax activation as shown above. You can use a ReLU activation with the `nn.ReLU` module or `F.relu` function.\n",
    "\n",
    "It's good practice to name your layers by their type of network, for instance 'fc' to represent a fully-connected layer. As you code your solution, use `fc1`, `fc2`, and `fc3` as your layer names."
   ]
  },
  {
   "cell_type": "code",
   "execution_count": 73,
   "metadata": {
    "scrolled": true
   },
   "outputs": [],
   "source": [
    "## Your solution here\n",
    "class Network(nn.Module):\n",
    "    def __init__(self):\n",
    "        super().__init__()\n",
    "        \n",
    "        self.fc1 = nn.Linear(784, 128)\n",
    "        self.fc2 = nn.Linear(128, 64)\n",
    "        self.fc3 = nn.Linear(64, 10)\n",
    "        \n",
    "    def forward(self, x):\n",
    "        x = self.fc1(x)\n",
    "        x = F.relu(x)\n",
    "        x = self.fc2(x)\n",
    "        x = F.relu(x)\n",
    "        x = self.fc3(x)\n",
    "        x = F.softmax(x, dim=1)\n",
    "        \n",
    "        return x"
   ]
  },
  {
   "cell_type": "code",
   "execution_count": 74,
   "metadata": {},
   "outputs": [
    {
     "data": {
      "text/plain": [
       "Network(\n",
       "  (fc1): Linear(in_features=784, out_features=128, bias=True)\n",
       "  (fc2): Linear(in_features=128, out_features=64, bias=True)\n",
       "  (fc3): Linear(in_features=64, out_features=10, bias=True)\n",
       ")"
      ]
     },
     "execution_count": 74,
     "metadata": {},
     "output_type": "execute_result"
    }
   ],
   "source": [
    "model = Network()\n",
    "model"
   ]
  },
  {
   "cell_type": "markdown",
   "metadata": {},
   "source": [
    "### Initializing weights and biases\n",
    "\n",
    "The weights and such are automatically initialized for you, but it's possible to customize how they are initialized. The weights and biases are tensors attached to the layer you defined, you can get them with `model.fc1.weight` for instance."
   ]
  },
  {
   "cell_type": "code",
   "execution_count": 77,
   "metadata": {},
   "outputs": [
    {
     "name": "stdout",
     "output_type": "stream",
     "text": [
      "torch.Size([128, 784]) torch.Size([128])\n",
      "torch.Size([64, 128]) torch.Size([64])\n",
      "torch.Size([10, 64]) torch.Size([10])\n",
      "Parameter containing:\n",
      "tensor([[-0.0354,  0.0117,  0.0134,  ...,  0.0352,  0.0135, -0.0009],\n",
      "        [-0.0298, -0.0120,  0.0327,  ..., -0.0270,  0.0060, -0.0284],\n",
      "        [-0.0256,  0.0086, -0.0010,  ...,  0.0052, -0.0154, -0.0332],\n",
      "        ...,\n",
      "        [ 0.0204, -0.0070, -0.0019,  ..., -0.0018, -0.0142,  0.0154],\n",
      "        [-0.0343,  0.0105, -0.0001,  ...,  0.0225, -0.0266,  0.0353],\n",
      "        [ 0.0316, -0.0108, -0.0186,  ...,  0.0216, -0.0039,  0.0318]],\n",
      "       requires_grad=True)\n",
      "Parameter containing:\n",
      "tensor([-4.9143e-03,  1.3020e-02, -3.2282e-02,  3.0377e-02,  1.1288e-02,\n",
      "         1.2982e-02, -3.3301e-02, -2.5797e-02,  6.5196e-03,  8.7258e-03,\n",
      "        -2.7716e-02,  9.0340e-03, -1.0184e-02, -3.4665e-02, -8.7719e-03,\n",
      "         8.2091e-03,  4.5077e-03, -1.7885e-02, -6.4101e-03, -7.8571e-03,\n",
      "        -1.0808e-02,  1.1746e-02,  1.1154e-05,  3.9523e-03, -5.9307e-03,\n",
      "        -2.5049e-02, -3.0313e-02,  1.3170e-03, -2.3141e-02, -1.8246e-02,\n",
      "        -1.3303e-02,  1.3715e-02,  6.5023e-03, -2.0736e-02,  1.0759e-02,\n",
      "        -1.1067e-02,  2.6862e-02, -3.0868e-03,  1.9946e-02, -2.1161e-02,\n",
      "         1.0808e-03, -7.7528e-04,  3.2469e-02,  1.5309e-02, -2.8385e-04,\n",
      "         2.7276e-02,  3.5483e-02, -2.6492e-02,  1.9362e-02, -4.6049e-04,\n",
      "        -2.1323e-03, -7.5999e-04,  1.7305e-02, -2.9777e-02,  1.8588e-02,\n",
      "        -7.2428e-03,  7.9805e-03,  3.2641e-02, -1.6295e-02, -2.0054e-02,\n",
      "         3.5831e-03,  1.6548e-02,  1.2711e-02,  2.8718e-02,  2.1347e-02,\n",
      "         2.0716e-02,  2.6346e-03, -1.5933e-02,  8.6702e-03,  2.4746e-02,\n",
      "        -2.3633e-03, -2.5992e-02, -2.3564e-02,  2.9556e-02, -1.4513e-02,\n",
      "         2.2503e-02,  2.4076e-02,  2.2453e-02,  2.5707e-02, -5.5373e-03,\n",
      "        -7.9350e-03, -6.5312e-03,  3.3161e-03, -1.5760e-02, -2.1619e-02,\n",
      "        -2.4422e-02, -8.0021e-03, -2.0155e-02, -3.1203e-02,  2.8632e-02,\n",
      "        -1.0887e-02, -1.4132e-03, -1.7737e-02,  1.0709e-02, -2.5759e-03,\n",
      "         5.9122e-03,  1.5671e-02,  1.7691e-02, -1.0903e-02, -2.9076e-02,\n",
      "        -2.9037e-02,  2.1737e-02, -3.4389e-02, -7.2074e-03,  3.0700e-02,\n",
      "         8.6854e-03, -2.9719e-02, -3.3502e-02,  6.4492e-03,  1.3437e-02,\n",
      "        -3.3289e-02, -4.7726e-03,  1.6604e-03, -3.0037e-02, -3.9274e-03,\n",
      "        -2.7492e-02, -2.7512e-02,  5.4362e-03,  2.7603e-02,  1.1522e-03,\n",
      "         2.5251e-02, -3.2397e-02, -1.3478e-02, -3.0996e-02, -1.3258e-02,\n",
      "        -9.9118e-03, -1.5516e-02,  3.0399e-02], requires_grad=True)\n"
     ]
    }
   ],
   "source": [
    "print(model.fc1.weight.shape, model.fc1.bias.shape)\n",
    "print(model.fc2.weight.shape, model.fc2.bias.shape)\n",
    "print(model.fc3.weight.shape, model.fc3.bias.shape)\n",
    "print(model.fc1.weight)\n",
    "print(model.fc1.bias)"
   ]
  },
  {
   "cell_type": "markdown",
   "metadata": {},
   "source": [
    "For custom initialization, we want to modify these tensors in place. These are actually autograd *Variables*, so we need to get back the actual tensors with `model.fc1.weight.data`. Once we have the tensors, we can fill them with zeros (for biases) or random normal values."
   ]
  },
  {
   "cell_type": "code",
   "execution_count": 78,
   "metadata": {},
   "outputs": [
    {
     "data": {
      "text/plain": [
       "tensor([0., 0., 0., 0., 0., 0., 0., 0., 0., 0., 0., 0., 0., 0., 0., 0., 0., 0., 0., 0., 0., 0., 0., 0.,\n",
       "        0., 0., 0., 0., 0., 0., 0., 0., 0., 0., 0., 0., 0., 0., 0., 0., 0., 0., 0., 0., 0., 0., 0., 0.,\n",
       "        0., 0., 0., 0., 0., 0., 0., 0., 0., 0., 0., 0., 0., 0., 0., 0., 0., 0., 0., 0., 0., 0., 0., 0.,\n",
       "        0., 0., 0., 0., 0., 0., 0., 0., 0., 0., 0., 0., 0., 0., 0., 0., 0., 0., 0., 0., 0., 0., 0., 0.,\n",
       "        0., 0., 0., 0., 0., 0., 0., 0., 0., 0., 0., 0., 0., 0., 0., 0., 0., 0., 0., 0., 0., 0., 0., 0.,\n",
       "        0., 0., 0., 0., 0., 0., 0., 0.])"
      ]
     },
     "execution_count": 78,
     "metadata": {},
     "output_type": "execute_result"
    }
   ],
   "source": [
    "# Set biases to all zeros\n",
    "model.fc1.bias.data.fill_(0)"
   ]
  },
  {
   "cell_type": "code",
   "execution_count": 79,
   "metadata": {},
   "outputs": [
    {
     "data": {
      "text/plain": [
       "tensor([[ 2.4080e-03,  1.8411e-04, -1.5951e-02,  ..., -5.3378e-03,\n",
       "         -1.5171e-02, -1.7376e-02],\n",
       "        [ 3.3265e-03,  1.3655e-02,  2.8097e-04,  ..., -4.0110e-03,\n",
       "         -1.0011e-03, -1.2638e-02],\n",
       "        [ 7.0741e-03, -1.0067e-02,  8.2529e-03,  ..., -1.0976e-02,\n",
       "         -6.3396e-03,  2.3654e-04],\n",
       "        ...,\n",
       "        [ 2.7002e-02, -8.8216e-03, -1.1714e-02,  ..., -1.4376e-03,\n",
       "         -1.6834e-03, -2.9417e-03],\n",
       "        [-1.9978e-02, -5.5121e-03,  3.4191e-03,  ..., -5.4456e-04,\n",
       "         -1.4308e-03,  7.7549e-03],\n",
       "        [ 5.6596e-03, -7.0900e-05, -1.3808e-02,  ..., -4.9723e-03,\n",
       "         -2.2147e-04, -1.0344e-02]])"
      ]
     },
     "execution_count": 79,
     "metadata": {},
     "output_type": "execute_result"
    }
   ],
   "source": [
    "# sample from random normal with standard dev = 0.01\n",
    "model.fc1.weight.data.normal_(std=0.01)"
   ]
  },
  {
   "cell_type": "markdown",
   "metadata": {},
   "source": [
    "### Forward pass\n",
    "\n",
    "Now that we have a network, let's see what happens when we pass in an image."
   ]
  },
  {
   "cell_type": "code",
   "execution_count": 82,
   "metadata": {},
   "outputs": [
    {
     "data": {
      "image/png": "[encoded data removed]",
      "text/plain": [
       "<Figure size 432x648 with 2 Axes>"
      ]
     },
     "metadata": {
      "image/png": {
       "height": 226,
       "width": 423
      },
      "needs_background": "light"
     },
     "output_type": "display_data"
    }
   ],
   "source": [
    "# Grab some data \n",
    "dataiter = iter(trainloader)\n",
    "images, labels = dataiter.next()\n",
    "\n",
    "# Resize images into a 1D vector, new shape is (batch size, color channels, image pixels) \n",
    "images.resize_(64, 1, 784)\n",
    "# or images.resize_(images.shape[0], 1, 784) to automatically get batch size\n",
    "\n",
    "# Forward pass through the network\n",
    "img_idx = 0\n",
    "ps = model.forward(images[img_idx,:])\n",
    "\n",
    "img = images[img_idx]\n",
    "helper.view_classify(img.view(1, 28, 28), ps)"
   ]
  },
  {
   "cell_type": "markdown",
   "metadata": {},
   "source": [
    "As you can see above, our network has basically no idea what this digit is. It's because we haven't trained it yet, all the weights are random!\n",
    "\n",
    "### Using `nn.Sequential`\n",
    "\n",
    "PyTorch provides a convenient way to build networks like this where a tensor is passed sequentially through operations, `nn.Sequential` ([documentation](https://pytorch.org/docs/master/nn.html#torch.nn.Sequential)). Using this to build the equivalent network:"
   ]
  },
  {
   "cell_type": "code",
   "execution_count": 83,
   "metadata": {},
   "outputs": [
    {
     "name": "stdout",
     "output_type": "stream",
     "text": [
      "Sequential(\n",
      "  (0): Linear(in_features=784, out_features=128, bias=True)\n",
      "  (1): ReLU()\n",
      "  (2): Linear(in_features=128, out_features=64, bias=True)\n",
      "  (3): ReLU()\n",
      "  (4): Linear(in_features=64, out_features=10, bias=True)\n",
      "  (5): Softmax()\n",
      ")\n"
     ]
    },
    {
     "data": {
      "image/png": "[encoded data removed]",
      "text/plain": [
       "<Figure size 432x648 with 2 Axes>"
      ]
     },
     "metadata": {
      "image/png": {
       "height": 226,
       "width": 423
      },
      "needs_background": "light"
     },
     "output_type": "display_data"
    }
   ],
   "source": [
    "# Hyperparameters for our network\n",
    "input_size = 784\n",
    "hidden_sizes = [128, 64]\n",
    "output_size = 10\n",
    "\n",
    "# Build a feed-forward network\n",
    "model = nn.Sequential(nn.Linear(input_size, hidden_sizes[0]),\n",
    "                      nn.ReLU(),\n",
    "                      nn.Linear(hidden_sizes[0], hidden_sizes[1]),\n",
    "                      nn.ReLU(),\n",
    "                      nn.Linear(hidden_sizes[1], output_size),\n",
    "                      nn.Softmax(dim=1))\n",
    "print(model)\n",
    "\n",
    "# Forward pass through the network and display output\n",
    "images, labels = next(iter(trainloader))\n",
    "images.resize_(images.shape[0], 1, 784)\n",
    "ps = model.forward(images[0,:])\n",
    "helper.view_classify(images[0].view(1, 28, 28), ps)"
   ]
  },
  {
   "cell_type": "markdown",
   "metadata": {},
   "source": [
    "Here our model is the same as before: 784 input units, a hidden layer with 128 units, ReLU activation, 64 unit hidden layer, another ReLU, then the output layer with 10 units, and the softmax output.\n",
    "\n",
    "The operations are available by passing in the appropriate index. For example, if you want to get first Linear operation and look at the weights, you'd use `model[0]`."
   ]
  },
  {
   "cell_type": "code",
   "execution_count": 86,
   "metadata": {},
   "outputs": [
    {
     "name": "stdout",
     "output_type": "stream",
     "text": [
      "Linear(in_features=784, out_features=128, bias=True)\n"
     ]
    },
    {
     "data": {
      "text/plain": [
       "Parameter containing:\n",
       "tensor([[-0.0228,  0.0120,  0.0072,  ...,  0.0284,  0.0320, -0.0034],\n",
       "        [ 0.0197,  0.0059,  0.0301,  ...,  0.0142, -0.0003,  0.0271],\n",
       "        [ 0.0268,  0.0308,  0.0071,  ..., -0.0144,  0.0170,  0.0253],\n",
       "        ...,\n",
       "        [ 0.0308, -0.0047, -0.0223,  ..., -0.0167, -0.0048, -0.0190],\n",
       "        [ 0.0347, -0.0071, -0.0177,  ..., -0.0346, -0.0216, -0.0285],\n",
       "        [-0.0266,  0.0079,  0.0316,  ..., -0.0270,  0.0135, -0.0240]],\n",
       "       requires_grad=True)"
      ]
     },
     "execution_count": 86,
     "metadata": {},
     "output_type": "execute_result"
    }
   ],
   "source": [
    "print(model[0])\n",
    "model[0].weight"
   ]
  },
  {
   "cell_type": "markdown",
   "metadata": {},
   "source": [
    "You can also pass in an `OrderedDict` to name the individual layers and operations, instead of using incremental integers. Note that dictionary keys must be unique, so _each operation must have a different name_."
   ]
  },
  {
   "cell_type": "code",
   "execution_count": 87,
   "metadata": {},
   "outputs": [
    {
     "data": {
      "text/plain": [
       "Sequential(\n",
       "  (fc1): Linear(in_features=784, out_features=128, bias=True)\n",
       "  (relu1): ReLU()\n",
       "  (fc2): Linear(in_features=128, out_features=64, bias=True)\n",
       "  (relu2): ReLU()\n",
       "  (output): Linear(in_features=64, out_features=10, bias=True)\n",
       "  (softmax): Softmax()\n",
       ")"
      ]
     },
     "execution_count": 87,
     "metadata": {},
     "output_type": "execute_result"
    }
   ],
   "source": [
    "from collections import OrderedDict\n",
    "model = nn.Sequential(OrderedDict([\n",
    "                      ('fc1', nn.Linear(input_size, hidden_sizes[0])),\n",
    "                      ('relu1', nn.ReLU()),\n",
    "                      ('fc2', nn.Linear(hidden_sizes[0], hidden_sizes[1])),\n",
    "                      ('relu2', nn.ReLU()),\n",
    "                      ('output', nn.Linear(hidden_sizes[1], output_size)),\n",
    "                      ('softmax', nn.Softmax(dim=1))]))\n",
    "model"
   ]
  },
  {
   "cell_type": "markdown",
   "metadata": {},
   "source": [
    "Now you can access layers either by integer or the name"
   ]
  },
  {
   "cell_type": "code",
   "execution_count": 88,
   "metadata": {},
   "outputs": [
    {
     "name": "stdout",
     "output_type": "stream",
     "text": [
      "Linear(in_features=784, out_features=128, bias=True)\n",
      "Linear(in_features=784, out_features=128, bias=True)\n"
     ]
    }
   ],
   "source": [
    "print(model[0])\n",
    "print(model.fc1)"
   ]
  },
  {
   "cell_type": "markdown",
   "metadata": {},
   "source": [
    "In the next notebook, we'll see how we can train a neural network to accuractly predict the numbers appearing in the MNIST images."
   ]
  }
 ],
 "metadata": {
  "kernelspec": {
   "display_name": "Python 3",
   "language": "python",
   "name": "python3"
  },
  "language_info": {
   "codemirror_mode": {
    "name": "ipython",
    "version": 3
   },
   "file_extension": ".py",
   "mimetype": "text/x-python",
   "name": "python",
   "nbconvert_exporter": "python",
   "pygments_lexer": "ipython3",
   "version": "3.5.6"
  }
 },
 "nbformat": 4,
 "nbformat_minor": 2
}
